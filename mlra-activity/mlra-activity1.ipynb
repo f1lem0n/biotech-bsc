{
 "cells": [
  {
   "cell_type": "code",
   "execution_count": 1,
   "outputs": [],
   "source": [
    "import pandas as pd\n",
    "import matplotlib.pyplot as plt"
   ],
   "metadata": {
    "collapsed": false,
    "pycharm": {
     "name": "#%%\n"
    }
   }
  },
  {
   "cell_type": "code",
   "execution_count": 15,
   "outputs": [
    {
     "data": {
      "text/plain": "Empty DataFrame\nColumns: [Unnamed: 0, Unnamed: 1, Unnamed: 2, retention time, Unnamed: 4, Unnamed: 5, Unnamed: 6, Unnamed: 7, Unnamed: 8, Unnamed: 9, Unnamed: 10, Unnamed: 11, Unnamed: 12, Unnamed: 13, Unnamed: 14, Unnamed: 15, Unnamed: 16, assay, Unnamed: 18, Unnamed: 19, average, Unnamed: 21, stężenie białka x20, Unnamed: 23, total protein, Unnamed: 25, MlrA activity/mg protein, Unnamed: 27, Unnamed: 28, stężenie białka x50, Unnamed: 30, total protein.1, Unnamed: 32, MlrA activity/mg protein.1, Unnamed: 34, Unnamed: 35, stężenie białka x100, Unnamed: 37, total protein.2, Unnamed: 39, MlrA activity/mg protein.2]\nIndex: []\n\n[0 rows x 41 columns]",
      "text/html": "<div>\n<style scoped>\n    .dataframe tbody tr th:only-of-type {\n        vertical-align: middle;\n    }\n\n    .dataframe tbody tr th {\n        vertical-align: top;\n    }\n\n    .dataframe thead th {\n        text-align: right;\n    }\n</style>\n<table border=\"1\" class=\"dataframe\">\n  <thead>\n    <tr style=\"text-align: right;\">\n      <th></th>\n      <th>Unnamed: 0</th>\n      <th>Unnamed: 1</th>\n      <th>Unnamed: 2</th>\n      <th>retention time</th>\n      <th>Unnamed: 4</th>\n      <th>Unnamed: 5</th>\n      <th>Unnamed: 6</th>\n      <th>Unnamed: 7</th>\n      <th>Unnamed: 8</th>\n      <th>Unnamed: 9</th>\n      <th>...</th>\n      <th>total protein.1</th>\n      <th>Unnamed: 32</th>\n      <th>MlrA activity/mg protein.1</th>\n      <th>Unnamed: 34</th>\n      <th>Unnamed: 35</th>\n      <th>stężenie białka x100</th>\n      <th>Unnamed: 37</th>\n      <th>total protein.2</th>\n      <th>Unnamed: 39</th>\n      <th>MlrA activity/mg protein.2</th>\n    </tr>\n  </thead>\n  <tbody>\n  </tbody>\n</table>\n<p>0 rows × 41 columns</p>\n</div>"
     },
     "execution_count": 15,
     "metadata": {},
     "output_type": "execute_result"
    }
   ],
   "source": [
    "df = pd.read_excel('data/AKtywność MlrA_McC7_MlrA20220408.ods')\n",
    "df = df[1:]\n",
    "df = df[df['stężenie białka x20'] = ]\n",
    "df"
   ],
   "metadata": {
    "collapsed": false,
    "pycharm": {
     "name": "#%%\n"
    }
   }
  },
  {
   "cell_type": "code",
   "execution_count": null,
   "outputs": [],
   "source": [],
   "metadata": {
    "collapsed": false,
    "pycharm": {
     "name": "#%%\n"
    }
   }
  }
 ],
 "metadata": {
  "kernelspec": {
   "display_name": "Python 3",
   "language": "python",
   "name": "python3"
  },
  "language_info": {
   "codemirror_mode": {
    "name": "ipython",
    "version": 2
   },
   "file_extension": ".py",
   "mimetype": "text/x-python",
   "name": "python",
   "nbconvert_exporter": "python",
   "pygments_lexer": "ipython2",
   "version": "2.7.6"
  }
 },
 "nbformat": 4,
 "nbformat_minor": 0
}