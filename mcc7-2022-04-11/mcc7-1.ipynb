{
 "cells": [
  {
   "cell_type": "code",
   "execution_count": 1,
   "id": "ae706838-8e7f-4b57-a293-4087386c4c57",
   "metadata": {},
   "outputs": [],
   "source": [
    "#docrepr\n",
    "ip = get_ipython()\n",
    "ip.sphinxify_docstring = True\n",
    "ip.enable_html_pager = True"
   ]
  },
  {
   "cell_type": "code",
   "execution_count": 2,
   "id": "55c9c6ab-0ffa-4bbd-ac35-579ab4d7761b",
   "metadata": {},
   "outputs": [],
   "source": [
    "import pandas as pd\n",
    "import matplotlib.pyplot as plt\n",
    "from glob import glob\n",
    "%matplotlib inline"
   ]
  },
  {
   "cell_type": "code",
   "execution_count": 3,
   "id": "4f09ad41-d835-472a-a691-ad40c83dc149",
   "metadata": {},
   "outputs": [
    {
     "data": {
      "text/plain": [
       "[]"
      ]
     },
     "execution_count": 3,
     "metadata": {},
     "output_type": "execute_result"
    }
   ],
   "source": [
    "files = sorted(glob('data-2022-04-11/*.xls'))\n",
    "\n",
    "files #lista plików"
   ]
  }
 ],
 "metadata": {
  "kernelspec": {
   "display_name": "Python 3 (ipykernel)",
   "language": "python",
   "name": "python3"
  },
  "language_info": {
   "codemirror_mode": {
    "name": "ipython",
    "version": 3
   },
   "file_extension": ".py",
   "mimetype": "text/x-python",
   "name": "python",
   "nbconvert_exporter": "python",
   "pygments_lexer": "ipython3",
   "version": "3.9.10"
  }
 },
 "nbformat": 4,
 "nbformat_minor": 5
}
